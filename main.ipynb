{
  "nbformat": 4,
  "nbformat_minor": 0,
  "metadata": {
    "colab": {
      "name": "Rock, Paper, Scissors AI Game.ipynb",
      "provenance": []
    },
    "kernelspec": {
      "name": "python3",
      "display_name": "Python 3"
    },
    "language_info": {
      "name": "python"
    }
  },
  "cells": [
    {
      "cell_type": "code",
      "execution_count": 182,
      "metadata": {
        "id": "paGIJCMfVgjf"
      },
      "outputs": [],
      "source": [
        "import random\n",
        "\n",
        "winner = False\n",
        "valid_moves = [\"rock\", \"paper\", \"scissors\"]\n",
        "state = [\"\"] # we start with an empty string in the state to prevent problems later in the workshop!\n",
        "winners = []"
      ]
    },
    {
      "cell_type": "code",
      "source": [
        "# This function asks our user to enter a move!\n",
        "def ask_move():\n",
        "  move = input(\" What move do you want to play?\\n Type rock, paper or scissors\\n Your Move: \")\n",
        "  \n",
        "  # If the move isn't rock, paper or scissors, return an error\n",
        "  if move not in valid_moves:\n",
        "      print(\"That is not a valid move\")\n",
        "  else:\n",
        "    return move\n",
        "  "
      ],
      "metadata": {
        "id": "7BgzwbQqVo8q"
      },
      "execution_count": 183,
      "outputs": []
    },
    {
      "cell_type": "code",
      "source": [
        "#  This function returns the most frequent move in our list\n",
        "def most_common(list):\n",
        "  rock_count = 0\n",
        "  paper_count = 0\n",
        "  scissors_count = 0\n",
        "  \n",
        "\n",
        "  for move in list:\n",
        "    if move == \"rock\":\n",
        "      rock_count += 1 # increment rock count by 1\n",
        "    elif move == \"paper\":\n",
        "      paper_count += 1\n",
        "    elif move == \"scissors\":\n",
        "      scissors_count += 1\n",
        "  # return the most common\n",
        "  if rock_count >= scissors_count and rock_count >= paper_count:\n",
        "    return \"rock\"\n",
        "  elif paper_count >= rock_count and paper_count >= scissors_count:\n",
        "    return \"paper\"\n",
        "  else:\n",
        "    return \"scissors\"\n",
        "    "
      ],
      "metadata": {
        "id": "qHEAp4TZVsYV"
      },
      "execution_count": 184,
      "outputs": []
    },
    {
      "cell_type": "code",
      "source": [
        "# This function sets the rules that our opponent uses to decide their move!\n",
        "def make_move():\n",
        "  if random.randint(0,1) == 0 :\n",
        "    if most_common(state) == \"rock\" :\n",
        "    computer_move ==\"paper\"\n",
        "    elif most_common(state) == \"paper\" :    \n",
        "    computer_move ==\"scissor\"\n",
        "    else :\n",
        "    computer_move ==\"rock\" \n",
        "    return computer_move \n",
        "  else :\n",
        "    computer_move = random.choice(valid_moves)\n",
        "    return computer_move\n",
        " "
      ],
      "metadata": {
        "id": "HBcI7SMCVyP4"
      },
      "execution_count": 185,
      "outputs": []
    },
    {
      "cell_type": "code",
      "source": [
        "# This function lets us check who won our game of rock paper scissors!\n",
        "def check_winner(player_move, computer_move):\n",
        "  if player_move == computer_move:\n",
        "    return \"draw\"\n",
        "  \n",
        "  elif player_move == \"rock\":\n",
        "    if computer_move == \"scissors\":\n",
        "      return \"player\"\n",
        "    else:\n",
        "      return \"opponent\"\n",
        "    \n",
        "  elif player_move == \"paper\":\n",
        "    if computer_move == \"rock\":\n",
        "      return \"player\"\n",
        "    else:\n",
        "      return \"opponent\"\n",
        "      \n",
        "  elif player_move == \"scissors\":\n",
        "    if computer_move == \"paper\":\n",
        "      return \"player\"\n",
        "    else:\n",
        "      return \"opponent\"\n"
      ],
      "metadata": {
        "id": "48eiDuGjV053"
      },
      "execution_count": 186,
      "outputs": []
    },
    {
      "cell_type": "code",
      "source": [
        "# This function helps us work out who is the overall winner of the five games\n",
        "# It outputs the most common element in a list\n",
        "def most_common(list):\n",
        "  return max(set(list), key=list.count)"
      ],
      "metadata": {
        "id": "ivK7nno5V5bG"
      },
      "execution_count": 187,
      "outputs": []
    },
    {
      "cell_type": "code",
      "source": [
        "# This is our game loop!\n",
        "while not winner:\n",
        "  player_move = ask_move()\n",
        "  computer_move = make_move()\n",
        "  \n",
        "  # Lets update our state!\n",
        "  state.append(player_move)\n",
        "  \n",
        "  # Okay, lets see who won this round!\n",
        "  round_winner = check_winner(player_move, computer_move)\n",
        "  \n",
        "  # Now we know who won, let's put a message in our console telling the player!\n",
        "  lost=[\"❌ Oh no! You lost!\", \"❌Guess who lost? ITS YOU\", \"❌Admit it, I am better!\", \"You just entered Loser-Town❌\"]\n",
        "  won=[\"🏆You might have won this one\", \"🏆 Congratulations, you won!\", \"I let you win this one🏆\", \"Oh no! You have defeated me🏆\"]\n",
        "  if round_winner == \"player\":\n",
        "    print(random.choice(won))\n",
        "  elif round_winner == \"opponent\":\n",
        "    print(random.choice(lost))\n",
        "  else:\n",
        "    print(\"🏁 Its a draw ! We're both awesome !\")\n",
        "  \n",
        "  # Next up, let's add our winner to our list of winners\n",
        "  # Our game of rock, paper, scissors is a best of five game\n",
        "  # This lets us keep track of who wins the best of five!\n",
        "  winners.append(round_winner)\n",
        "  \n",
        "  # When five games have been played, output the winner then end the game\n",
        "  if len(winners) == 5:\n",
        "    winner = most_common(winners)\n",
        "    print(\"🎉 The winner of the five games was: {}\".format(winner))"
      ],
      "metadata": {
        "colab": {
          "base_uri": "https://localhost:8080/"
        },
        "id": "t4gvpq6KV7wq",
        "outputId": "58aeec09-454d-41e3-d1b5-8785a699978c"
      },
      "execution_count": 188,
      "outputs": [
        {
          "output_type": "stream",
          "name": "stdout",
          "text": [
            " What move do you want to play?\n",
            " Type rock, paper or scissors\n",
            " Your Move: rock\n",
            "❌ Oh no! You lost!\n",
            " What move do you want to play?\n",
            " Type rock, paper or scissors\n",
            " Your Move: paper\n",
            "🏁 Its a draw ! We're both awesome !\n",
            " What move do you want to play?\n",
            " Type rock, paper or scissors\n",
            " Your Move: scissors\n",
            "🏆 Congratulations, you won!\n",
            " What move do you want to play?\n",
            " Type rock, paper or scissors\n",
            " Your Move: rock\n",
            "❌Admit it, I am better!\n",
            " What move do you want to play?\n",
            " Type rock, paper or scissors\n",
            " Your Move: paper\n",
            "🏁 Its a draw ! We're both awesome !\n",
            "🎉 The winner of the five games was: opponent\n"
          ]
        }
      ]
    },
    {
      "cell_type": "code",
      "source": [
        ""
      ],
      "metadata": {
        "id": "JyZAORPfYRtj"
      },
      "execution_count": 188,
      "outputs": []
    }
  ]
}